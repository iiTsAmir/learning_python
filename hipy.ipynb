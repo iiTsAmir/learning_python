{
 "cells": [
  {
   "cell_type": "markdown",
   "id": "5deaffac-a1a7-4240-859f-d275ee58f811",
   "metadata": {
    "jp-MarkdownHeadingCollapsed": true
   },
   "source": [
    "### easy text encryption"
   ]
  },
  {
   "cell_type": "code",
   "execution_count": 46,
   "id": "de1513db-4088-4bef-b3df-70e7f232f77b",
   "metadata": {},
   "outputs": [
    {
     "name": "stdout",
     "output_type": "stream",
     "text": [
      "=-=-=-=-=-=-=-=-=-=-=-=-=-=-=-=-=-=-=-=\n"
     ]
    },
    {
     "name": "stdin",
     "output_type": "stream",
     "text": [
      "1.Encrypt\t2.Decrypt\t3.Exit\n",
      " 1\n",
      "Encrypt\n",
      "plain text:      hi Qmars!!\n"
     ]
    },
    {
     "name": "stdout",
     "output_type": "stream",
     "text": [
      "encrypted text:  ɧɭ·ǝʅȽʣʩ½½\n",
      "\n",
      "=-=-=-=-=-=-=-=-=-=-=-=-=-=-=-=-=-=-=-=\n"
     ]
    },
    {
     "name": "stdin",
     "output_type": "stream",
     "text": [
      "1.Encrypt\t2.Decrypt\t3.Exit\n",
      " 2\n",
      "Decrypt\n",
      "encrypted text:   ɧɭ·ǝʅȽʣʩ½½\n"
     ]
    },
    {
     "name": "stdout",
     "output_type": "stream",
     "text": [
      "plain text:       hi Qmars!!\n",
      "\n",
      "=-=-=-=-=-=-=-=-=-=-=-=-=-=-=-=-=-=-=-=\n"
     ]
    },
    {
     "name": "stdin",
     "output_type": "stream",
     "text": [
      "1.Encrypt\t2.Decrypt\t3.Exit\n",
      " 3\n"
     ]
    }
   ],
   "source": [
    "from IPython.display import clear_output as co\n",
    "print('=-=-=-=-=-=-=-=-=-=-=-=-=-=-=-=-=-=-=-=')\n",
    "while 1:\n",
    "    op = int(input('1.Encrypt\\t2.Decrypt\\t3.Exit\\n'))\n",
    "    \n",
    "    if op == 1:\n",
    "        ptxt = input('Encrypt\\nplain text:     ')\n",
    "        etxt = ''\n",
    "        for i in ptxt:\n",
    "            etxt += chr(ord(i) * 6 - 9)\n",
    "        print(f'encrypted text:  {etxt}')\n",
    "        print('\\n=-=-=-=-=-=-=-=-=-=-=-=-=-=-=-=-=-=-=-=')\n",
    "        \n",
    "    elif op == 2:\n",
    "        etxt = input('Decrypt\\nencrypted text:  ')\n",
    "        ptxt = ''\n",
    "        for i in etxt:\n",
    "            ptxt += chr((ord(i) + 9) // 6)\n",
    "        print(f'plain text:       {ptxt}')\n",
    "        print ('\\n=-=-=-=-=-=-=-=-=-=-=-=-=-=-=-=-=-=-=-=')\n",
    "        \n",
    "    else:\n",
    "        break"
   ]
  },
  {
   "cell_type": "markdown",
   "id": "45defccc-c460-4e26-bf48-08ce87260076",
   "metadata": {
    "jp-MarkdownHeadingCollapsed": true
   },
   "source": [
    "### fibonacci w gen\n",
    "- fibonacci series with genrator"
   ]
  },
  {
   "cell_type": "code",
   "execution_count": 36,
   "id": "8ea2af2a-14f2-4549-ae06-b6bf7deade2a",
   "metadata": {},
   "outputs": [
    {
     "name": "stdout",
     "output_type": "stream",
     "text": [
      "0, 1, 1, 2, 3, 5, 8, 13, 21, 34, 55, 89, 144, 233, 377, 610, 987, 1597, 2584, 4181, "
     ]
    }
   ],
   "source": [
    "def fibonacci():\n",
    "    x, y = 0, 1\n",
    "    while 1:\n",
    "        yield x\n",
    "        x, y = y, x+y\n",
    "\n",
    "\n",
    "fib = fibonacci()\n",
    "\n",
    "for _ in range(20):\n",
    "    print(next(fib),end=', ')\n"
   ]
  },
  {
   "cell_type": "markdown",
   "id": "d2dd35b6-5494-40fe-a6a5-6c1f3b317fb9",
   "metadata": {
    "jp-MarkdownHeadingCollapsed": true
   },
   "source": [
    "### triangle\n",
    "- Take the sides of a triangle from the user and determine whether these sides can make a triangle or not? If yes, what kind of triangle?"
   ]
  },
  {
   "cell_type": "code",
   "execution_count": 17,
   "id": "023bbbcf-fd00-492f-8adc-9d5460bc5486",
   "metadata": {},
   "outputs": [
    {
     "name": "stdin",
     "output_type": "stream",
     "text": [
      " 9\n",
      " 9\n",
      " 16\n"
     ]
    },
    {
     "name": "stdout",
     "output_type": "stream",
     "text": [
      "triangle\n",
      "Isosceles\n"
     ]
    }
   ],
   "source": [
    "from math import sqrt as radkal\n",
    "\n",
    "x = int(input())\n",
    "y = int(input())\n",
    "z = int(input())\n",
    "\n",
    "if x+y>z and y+z>x and z+x>y:\n",
    "    print('triangle')\n",
    "    if x == y == z :\n",
    "        print('Equilateral')\n",
    "        \n",
    "    elif x==y!=z or y==z!=x or z==x!=y :\n",
    "        print('Isosceles')\n",
    "\n",
    "    elif x==radkal(y**2+z**2) or y==radkal(z**2+x**2) or z==radkal(x**2+y**2):\n",
    "        print('Right')\n",
    "    \n",
    "    else:\n",
    "        print('Scalene ')\n",
    "else:\n",
    "    print('not triangle')"
   ]
  },
  {
   "cell_type": "markdown",
   "id": "da184db8-be9d-45b4-a715-eb6dc207902e",
   "metadata": {
    "jp-MarkdownHeadingCollapsed": true
   },
   "source": [
    "### easy password generator"
   ]
  },
  {
   "cell_type": "code",
   "execution_count": 29,
   "id": "b48c2bd2-c599-445a-a17f-26dc54605506",
   "metadata": {},
   "outputs": [
    {
     "name": "stdout",
     "output_type": "stream",
     "text": [
      "PASSGEN\n"
     ]
    },
    {
     "name": "stdin",
     "output_type": "stream",
     "text": [
      "enter length of pass: 15\n"
     ]
    },
    {
     "name": "stdout",
     "output_type": "stream",
     "text": [
      "wmYG%2635Xt$ROp\n",
      "=-=-=-=-=-=-=-=-=-=-=-=-=\n"
     ]
    },
    {
     "name": "stdin",
     "output_type": "stream",
     "text": [
      "enter length of pass: 32\n"
     ]
    },
    {
     "name": "stdout",
     "output_type": "stream",
     "text": [
      "V)umEMzDkGRL#FfHJCc!Sqpxani$N6Te\n",
      "=-=-=-=-=-=-=-=-=-=-=-=-=\n"
     ]
    },
    {
     "name": "stdin",
     "output_type": "stream",
     "text": [
      "enter length of pass: \n"
     ]
    }
   ],
   "source": [
    "from string import ascii_lowercase as l , ascii_uppercase as u\n",
    "from random import sample\n",
    "\n",
    "allchr = '0123456789()*&^%$#@!'+l+u\n",
    "out = ''\n",
    "print('PASSGEN')\n",
    "while 1:\n",
    "    x = input('enter length of pass:')\n",
    "    if x == '':\n",
    "        break\n",
    "    x = int(x)\n",
    "    out = ''.join(sample(allchr,x))\n",
    "    print(out)\n",
    "    print('=-=-=-=-=-=-=-=-=-=-=-=-=')"
   ]
  },
  {
   "cell_type": "markdown",
   "id": "356252c3-a017-4577-aac1-3584b1f974bc",
   "metadata": {
    "jp-MarkdownHeadingCollapsed": true
   },
   "source": [
    "### rebuild enumerate w gen\n",
    "- write something work like enumerate function with generator"
   ]
  },
  {
   "cell_type": "code",
   "execution_count": 27,
   "id": "d6fd4a0e-7c59-48f1-966d-2ffa43471565",
   "metadata": {},
   "outputs": [
    {
     "name": "stdout",
     "output_type": "stream",
     "text": [
      "[(0, 'apple'), (1, 'banana'), (2, 'cherry')]\n",
      "[(0, 'apple')]\n",
      "[(0, 'apple'), (1, 'banana')]\n",
      "[(0, 'apple'), (1, 'banana'), (2, 'cherry')]\n",
      "[(0, 'apple'), (1, 'banana'), (2, 'cherry')]\n",
      "[(0, 'apple'), (1, 'banana'), (2, 'cherry')]\n"
     ]
    }
   ],
   "source": [
    "def en(x):\n",
    "    out = []\n",
    "    for i in range(0,len(x)):\n",
    "        out.append((i,x[i]))\n",
    "        yield out\n",
    "    while 1:\n",
    "        yield out\n",
    "        \n",
    "\n",
    "lst = ('apple', 'banana', 'cherry')\n",
    "\n",
    "x = enumerate(lst)\n",
    "print(list(x))\n",
    "\n",
    "y = en(lst)\n",
    "print(next(y))\n",
    "print(next(y))\n",
    "print(next(y))\n",
    "print(next(y))\n",
    "print(next(y))"
   ]
  },
  {
   "cell_type": "markdown",
   "id": "e004bac8-3ddb-460d-b6b2-c2b2176745dc",
   "metadata": {
    "jp-MarkdownHeadingCollapsed": true
   },
   "source": [
    "### sort a list of tuple w lambda\n",
    "- sort a list of tuple like [('mamad',23),('reza',19),...] with number in each tuple"
   ]
  },
  {
   "cell_type": "code",
   "execution_count": 19,
   "id": "06a03aa2-7a4f-47b6-817d-832a4f5af0e8",
   "metadata": {},
   "outputs": [
    {
     "name": "stdout",
     "output_type": "stream",
     "text": [
      "[('Qmars', 17), ('reza', 19), ('mamad', 23), ('shahrooz', 28), ('gholii', 60)]\n"
     ]
    }
   ],
   "source": [
    "lst = [('mamad',23),('reza',19),('gholii',60),('Qmars',17),('shahrooz',28)]\n",
    "print(sorted(lst,key=lambda x: x[1]))"
   ]
  },
  {
   "cell_type": "markdown",
   "id": "f83f6f77-8703-41fe-96c5-5f3161c66758",
   "metadata": {
    "jp-MarkdownHeadingCollapsed": true
   },
   "source": [
    "### number length\n",
    "- check number length without conversion"
   ]
  },
  {
   "cell_type": "code",
   "execution_count": 12,
   "id": "33adbce1-5d06-48cb-8d02-dca5f721b428",
   "metadata": {},
   "outputs": [
    {
     "name": "stdin",
     "output_type": "stream",
     "text": [
      "enter number: 21465\n"
     ]
    },
    {
     "name": "stdout",
     "output_type": "stream",
     "text": [
      "5\n"
     ]
    }
   ],
   "source": [
    "x = int(input('enter number:'))\n",
    "l = 0\n",
    "i = 10\n",
    "y = 1\n",
    "while y >= 1:\n",
    "    y = x/i\n",
    "    i *=10\n",
    "    l +=1\n",
    "print(l)"
   ]
  },
  {
   "cell_type": "markdown",
   "id": "43ea2ed3-d2d1-48ae-b73a-f4911d578eab",
   "metadata": {},
   "source": [
    "### some random codes :)"
   ]
  },
  {
   "cell_type": "code",
   "execution_count": 35,
   "id": "c6d17b09-97b0-4ec0-bdd8-0b332630ee50",
   "metadata": {},
   "outputs": [
    {
     "name": "stdin",
     "output_type": "stream",
     "text": [
      " نرسید اما نباید فکر کنید که بلد نیستید. مطمئن باشید با تالش حتما میتوانید راه حل را پیدا کنید. اگر پس از تالش کافی باز هم به نتیجه نرسیدید هیچ اشکالی ندارد. همه افراد ذهینت های یکسانی ندارند. حتما در تمرینات بعدی موفق تر خواهید بود.\n"
     ]
    },
    {
     "name": "stdout",
     "output_type": "stream",
     "text": [
      "jomle:5\n",
      "kalame:46\n",
      "char:232\n",
      "ENchar:0\n"
     ]
    }
   ],
   "source": [
    "str = input()\n",
    "a = str.count('.') + str.count('!') + str.count('?')\n",
    "b = len(str.split())\n",
    "c = len(str)\n",
    "out = f\"jomle:{a}\\nkalame:{b}\\nchar:{c}\\nENchar:{0}\"\n",
    "print(out)"
   ]
  },
  {
   "cell_type": "code",
   "execution_count": 3,
   "id": "1a8f2fd4-441e-4f21-86af-0b939e25631d",
   "metadata": {},
   "outputs": [
    {
     "name": "stdout",
     "output_type": "stream",
     "text": [
      "1\n",
      "[2, 3, 4, 5, 6, 7, 8]\n",
      "9\n"
     ]
    }
   ],
   "source": [
    "a, *b, c = [1,2,3,4,5,6,7,8,9]\n",
    "print(a,'\\n',b,'\\n',c,sep='')"
   ]
  },
  {
   "cell_type": "code",
   "execution_count": 11,
   "id": "9ddea015-9030-4317-9504-7941a8c1941e",
   "metadata": {},
   "outputs": [
    {
     "name": "stdout",
     "output_type": "stream",
     "text": [
      "?irohkimapap\n"
     ]
    }
   ],
   "source": [
    "x = 'papamikhori?'\n",
    "print(x[::-1])"
   ]
  },
  {
   "cell_type": "code",
   "execution_count": 40,
   "id": "360fe8a4-6e6d-4949-827a-a3d98daef89d",
   "metadata": {},
   "outputs": [
    {
     "name": "stdout",
     "output_type": "stream",
     "text": [
      "2\n"
     ]
    }
   ],
   "source": [
    "x = 10\n",
    "i = 0\n",
    "while x > 0:\n",
    "    x //= 10\n",
    "    i+=1\n",
    "print(i)"
   ]
  },
  {
   "cell_type": "code",
   "execution_count": 31,
   "id": "6787fa50-3425-4275-987f-24270ba6e0d2",
   "metadata": {},
   "outputs": [
    {
     "name": "stdout",
     "output_type": "stream",
     "text": [
      "*the info*will be updated/erased during next loop\n"
     ]
    }
   ],
   "source": [
    "print(\"something will be updated/erased during next loop\", end=\"\")\n",
    "print(\"\\r\", end=\"\")\n",
    "print(\"*the info*\")"
   ]
  },
  {
   "cell_type": "code",
   "execution_count": 7,
   "id": "d45c443d-7a02-4757-9e68-62cf0d174a46",
   "metadata": {},
   "outputs": [
    {
     "name": "stdout",
     "output_type": "stream",
     "text": [
      "1 2 3\n"
     ]
    }
   ],
   "source": [
    "def f(a,/,b,*,c):\n",
    "    print(a,b,c)\n",
    "f(1,2,c=3)"
   ]
  },
  {
   "cell_type": "code",
   "execution_count": 15,
   "id": "0184a3c5-3722-4533-bf4e-e9e80c9a4a84",
   "metadata": {},
   "outputs": [
    {
     "name": "stdout",
     "output_type": "stream",
     "text": [
      "360000.0\n"
     ]
    }
   ],
   "source": [
    "def discount(value,percent):\n",
    "    return value - value*(percent/100)\n",
    "\n",
    "print(discount(450000,20))"
   ]
  },
  {
   "cell_type": "code",
   "execution_count": 18,
   "id": "8c53c1bc-42a4-4c92-a600-bd1c7801c98c",
   "metadata": {},
   "outputs": [
    {
     "data": {
      "text/plain": [
       "5"
      ]
     },
     "execution_count": 18,
     "metadata": {},
     "output_type": "execute_result"
    }
   ],
   "source": [
    "lst = [1, 2, 3, 4, 5, 6, 7, 8, 9, 10]\n",
    "len(list(filter(lambda x: x%2==0,lst)))"
   ]
  },
  {
   "cell_type": "code",
   "execution_count": 2,
   "id": "fab7cbe1-ec21-46c2-b8a1-57d6546b5846",
   "metadata": {},
   "outputs": [
    {
     "data": {
      "text/plain": [
       "[(0, 'apple'), (1, 'banana'), (2, 'cherry')]"
      ]
     },
     "execution_count": 2,
     "metadata": {},
     "output_type": "execute_result"
    }
   ],
   "source": [
    "x = ('apple', 'banana', 'cherry')\n",
    "y = enumerate(x)\n",
    "list(y)"
   ]
  }
 ],
 "metadata": {
  "kernelspec": {
   "display_name": "Python 3 (ipykernel)",
   "language": "python",
   "name": "python3"
  },
  "language_info": {
   "codemirror_mode": {
    "name": "ipython",
    "version": 3
   },
   "file_extension": ".py",
   "mimetype": "text/x-python",
   "name": "python",
   "nbconvert_exporter": "python",
   "pygments_lexer": "ipython3",
   "version": "3.12.0"
  }
 },
 "nbformat": 4,
 "nbformat_minor": 5
}
